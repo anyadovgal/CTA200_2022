{
 "cells": [
  {
   "cell_type": "code",
   "execution_count": 3,
   "id": "1b95a0f1",
   "metadata": {},
   "outputs": [],
   "source": [
    "## Part 1\n",
    "# (I know that the numpy doc. for this part is a bit\n",
    "#  unnecessary, but I'm finding it to be a good practice)\n",
    "\n",
    "def f(x):\n",
    "    \"\"\"Returns the function f(x) = x^3 - x^2 - 1\n",
    "    \n",
    "    Parameters\n",
    "    -----------\n",
    "    x : float\n",
    "    \n",
    "    Returns\n",
    "    --------\n",
    "    float\n",
    "        Returns the output of x\n",
    "    \"\"\"\n",
    "    return x**3 - x**2 - 1\n",
    "\n",
    "def df(x):\n",
    "    \"\"\"Returns the first derivative of f(x) = x^3 - x^2 - 1\n",
    "    \n",
    "    Returns df/dx = 3x^2 - 2x\n",
    "    \n",
    "    Parameters\n",
    "    -----------\n",
    "    x : float\n",
    "    \n",
    "    Returns\n",
    "    --------\n",
    "    float\n",
    "        Returns the output of x\n",
    "    \"\"\"\n",
    "    return 3*x**2 - 2*x"
   ]
  },
  {
   "cell_type": "code",
   "execution_count": 6,
   "id": "60245735",
   "metadata": {},
   "outputs": [],
   "source": [
    "import numpy as np"
   ]
  },
  {
   "cell_type": "code",
   "execution_count": 7,
   "id": "4cc2b478",
   "metadata": {},
   "outputs": [],
   "source": [
    "## Part 2\n",
    "\n",
    "def newton(f, df, x0, epsilon=1E-6, max_iter=30):\n",
    "    \"\"\"Performs a Newton iteration of function f with derivative df\n",
    "    \n",
    "    Given f, df, and x0, newton will try to find the closest root\n",
    "    x_n (such that f(x_n) = 0). If the error is larger than epsilon after\n",
    "    max_iter iterations, then the function will end.\n",
    "    \n",
    "    Parameters\n",
    "    ----------\n",
    "    f : function that takes parameter float\n",
    "        a function for which we want to find the root of\n",
    "    df : function that takes parameter float\n",
    "        the first derivative of the function f\n",
    "    x0 : float\n",
    "        our initial guess for what the root is\n",
    "    epsilon : float\n",
    "        the error (difference between 0 and f(x)) that we are\n",
    "        satisfied with\n",
    "    max_iter : int\n",
    "        the maximum number of iterations allowed before the program\n",
    "        will stop running.\n",
    "    \n",
    "    Returns \n",
    "    -------\n",
    "    float\n",
    "        Returns the root of f\n",
    "    None\n",
    "        If f(xn) >= epsilon after max_iter number of iterations\n",
    "    \n",
    "    \"\"\"\n",
    "    xn = x0\n",
    "    \n",
    "    for i in range(max_iter):\n",
    "        \n",
    "        if np.abs(f(xn)) >= epsilon:\n",
    "            xnext = xn - f(xn) / df(xn)\n",
    "            xn = xnext\n",
    "        else:\n",
    "            print(\"Found root in \", (i+1), \" iterations\")\n",
    "            return xn\n",
    "    \n",
    "    print(\"Iteration failed\")\n",
    "    return None"
   ]
  },
  {
   "cell_type": "code",
   "execution_count": 25,
   "id": "5ebe2729",
   "metadata": {},
   "outputs": [
    {
     "name": "stdout",
     "output_type": "stream",
     "text": [
      "Found root in  5  iterations\n"
     ]
    },
    {
     "data": {
      "text/plain": [
       "1.465571238703893"
      ]
     },
     "execution_count": 25,
     "metadata": {},
     "output_type": "execute_result"
    }
   ],
   "source": [
    "# Part 3\n",
    "\n",
    "newton(f, df, x0=1.2)"
   ]
  },
  {
   "cell_type": "code",
   "execution_count": 24,
   "id": "c3195762",
   "metadata": {
    "scrolled": true
   },
   "outputs": [
    {
     "name": "stdout",
     "output_type": "stream",
     "text": [
      "Found root in  5  iterations\n"
     ]
    },
    {
     "data": {
      "text/plain": [
       "1.4655713749070918"
      ]
     },
     "execution_count": 24,
     "metadata": {},
     "output_type": "execute_result"
    }
   ],
   "source": [
    "newton(f, df, x0=2)"
   ]
  },
  {
   "cell_type": "code",
   "execution_count": 19,
   "id": "bae69195",
   "metadata": {},
   "outputs": [
    {
     "name": "stdout",
     "output_type": "stream",
     "text": [
      "Iteration failed\n"
     ]
    }
   ],
   "source": [
    "newton(f, df, x0=100000)"
   ]
  },
  {
   "cell_type": "code",
   "execution_count": 23,
   "id": "1341f908",
   "metadata": {},
   "outputs": [
    {
     "name": "stdout",
     "output_type": "stream",
     "text": [
      "Found root in  6  iterations\n"
     ]
    },
    {
     "data": {
      "text/plain": [
       "1.4655712318767877"
      ]
     },
     "execution_count": 23,
     "metadata": {},
     "output_type": "execute_result"
    }
   ],
   "source": [
    "newton(f, df, x0=2, epsilon = 1E-8)\n",
    "# took one more iteration, compared to above."
   ]
  }
 ],
 "metadata": {
  "kernelspec": {
   "display_name": "Python 3 (ipykernel)",
   "language": "python",
   "name": "python3"
  },
  "language_info": {
   "codemirror_mode": {
    "name": "ipython",
    "version": 3
   },
   "file_extension": ".py",
   "mimetype": "text/x-python",
   "name": "python",
   "nbconvert_exporter": "python",
   "pygments_lexer": "ipython3",
   "version": "3.10.2"
  }
 },
 "nbformat": 4,
 "nbformat_minor": 5
}
